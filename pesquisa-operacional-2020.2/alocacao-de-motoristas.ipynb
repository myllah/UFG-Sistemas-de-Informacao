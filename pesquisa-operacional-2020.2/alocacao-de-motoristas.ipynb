{
 "cells": [
  {
   "cell_type": "markdown",
   "metadata": {},
   "source": [
    "## Problema de Alocação de Motoristas"
   ]
  },
  {
   "cell_type": "markdown",
   "metadata": {},
   "source": [
    "**Problema de Alocação de Motoristas -** Devido ao número inconstante de passageiros, uma companhia de ônibus necessita de um número variado de motoristas dependendo do horário considerado. O número mínimo de motoristas necessários para cada período é apresentados na tabela abaixo.\n",
    "\n",
    "                  1 às 5      5 às 9    9 às 13       13 às 17      17 às 21     21 à 1\t\n",
    "\n",
    "    Motoristas:     15         30         26             32           30          19\n",
    "              \n",
    "Os motoristas trabalham 8 horas seguidas, podendo começar 1, 5, 9, 13, 17 ou 21 horas. Formule o problema obtendo um modelo matemático que possibilite, a companhia em questão, reduzir o número de motoristas."
   ]
  },
  {
   "cell_type": "markdown",
   "metadata": {},
   "source": [
    "x1 = Quantidade de motoristas que têm horário de início às 1 hora\n",
    "\n",
    "x2 = Quantidade de motoristas que têm horário de início às 5 horas\n",
    "\n",
    "x3 = Quantidade de motoristas que têm horário de início às 9 horas\n",
    "\n",
    "x4 = Quantidade de motoristas que têm horário de início às 13 horas\n",
    "\n",
    "x5 = Quantidade de motoristas que têm horário de início às 17 horas\n",
    "\n",
    "x6 = Quantidade de motoristas que têm horário de início às 21 horas\n",
    "\n",
    "MIN x1 + x2 + x3 + x4 + x5 + x6\n",
    "\n",
    "sujeito a:\n",
    "\n",
    "x6 + x1 >= 15\n",
    "\n",
    "x1 + x2 >= 30\n",
    "\n",
    "x2 + x3 >= 26\n",
    "\n",
    "x3 + x4 >= 32\n",
    "\n",
    "x4 + x5 >= 30\n",
    "\n",
    "x5 + x6 >= 19\n",
    "\n",
    "x1, x2, x3, x4, x5, x6 >= 0\n",
    "\n",
    "x1, x2, x3, x4, x5, x6 ∈ Z"
   ]
  },
  {
   "cell_type": "code",
   "execution_count": 1,
   "metadata": {},
   "outputs": [
    {
     "name": "stdout",
     "output_type": "stream",
     "text": [
      "solution for: Fabrica_De_Moveis\n",
      "objective: 81\n",
      "x_1=25\n",
      "x_2=5\n",
      "x_3=21\n",
      "x_4=11\n",
      "x_5=19\n",
      "\n"
     ]
    }
   ],
   "source": [
    "from docplex.mp.model import Model\n",
    "import cplex\n",
    "\n",
    "m = Model(name='Fabrica_De_Moveis')\n",
    "x_1 = m.integer_var(name='x_1')\n",
    "x_2 = m.integer_var(name='x_2')\n",
    "x_3 = m.integer_var(name='x_3')\n",
    "x_4 = m.integer_var(name='x_4')\n",
    "x_5 = m.integer_var(name='x_5')\n",
    "x_6 = m.integer_var(name='x_6')\n",
    "\n",
    "m.add_constraint(x_6 + x_1 >= 15)\n",
    "m.add_constraint(x_1 + x_2 >= 30)\n",
    "m.add_constraint(x_2 + x_3 >= 26)\n",
    "m.add_constraint(x_3 + x_4 >= 32)\n",
    "m.add_constraint(x_4 + x_5 >= 30)\n",
    "m.add_constraint(x_5 + x_6 >= 19)\n",
    "\n",
    "m.add_constraint(x_1 >= 0)\n",
    "m.add_constraint(x_2 >= 0)\n",
    "m.add_constraint(x_3 >= 0)\n",
    "m.add_constraint(x_4 >= 0)\n",
    "m.add_constraint(x_5 >= 0)\n",
    "m.add_constraint(x_6 >= 0)\n",
    "\n",
    "m.minimize(x_1 + x_2 + x_3 + x_4 + x_5 + x_6)\n",
    "m.solve()\n",
    "print(m.solution)"
   ]
  }
 ],
 "metadata": {
  "kernelspec": {
   "display_name": "Python 3",
   "language": "python",
   "name": "python3"
  },
  "language_info": {
   "codemirror_mode": {
    "name": "ipython",
    "version": 2
   },
   "file_extension": ".py",
   "mimetype": "text/x-python",
   "name": "python",
   "nbconvert_exporter": "python",
   "pygments_lexer": "ipython2",
   "version": "2.7.17"
  }
 },
 "nbformat": 4,
 "nbformat_minor": 2
}
