{
 "cells": [
  {
   "cell_type": "markdown",
   "metadata": {},
   "source": [
    "## Questão 01\n",
    "\n",
    "**|pe| ≤ |sbv| ≤ |sb| ≤ Cn,m**\n",
    "\n",
    "Encontre os pontos extremos, as soluções básicas e as soluções básicas viáveis do PPL abaixo e verifique que as desigualdades acima são atendidas"
   ]
  },
  {
   "cell_type": "markdown",
   "metadata": {},
   "source": [
    "minimizar -x1 -2x2\n",
    "\n",
    "sujeito a: \n",
    "\n",
    "x1 + x2 + x3 = 4\n",
    "\n",
    "2*x1 + x2 + x4 = 6\n",
    "\n",
    "x1 + x5 = 3\n",
    "\n",
    "x1, x2, x3, x4, x5 >= 0"
   ]
  },
  {
   "cell_type": "code",
   "execution_count": 1,
   "metadata": {},
   "outputs": [
    {
     "name": "stdout",
     "output_type": "stream",
     "text": [
      "solution for: Questão-01\n",
      "objective: -8\n",
      "x_2=4\n",
      "x_4=2\n",
      "x_5=3\n",
      "\n"
     ]
    }
   ],
   "source": [
    "from docplex.mp.model import Model\n",
    "import cplex\n",
    "\n",
    "m = Model(name='Questão-01')\n",
    "x_1 = m.integer_var(name='x_1')\n",
    "x_2 = m.integer_var(name='x_2')\n",
    "x_3 = m.integer_var(name='x_3')\n",
    "x_4 = m.integer_var(name='x_4')\n",
    "x_5 = m.integer_var(name='x_5')\n",
    "\n",
    "m.add_constraint(x_1 + x_2 + x_3 == 4)\n",
    "m.add_constraint(2*x_1 + x_2 + x_4 == 6)\n",
    "m.add_constraint(x_1 + x_5 == 3)\n",
    "m.add_constraint(x_1 >= 0)\n",
    "m.add_constraint(x_2 >= 0)\n",
    "m.add_constraint(x_3 >= 0)\n",
    "m.add_constraint(x_4 >= 0)\n",
    "m.add_constraint(x_5 >= 0)\n",
    "\n",
    "m.minimize(-x_1 -2*x_2)\n",
    "m.solve()\n",
    "print(m.solution)"
   ]
  },
  {
   "cell_type": "markdown",
   "metadata": {},
   "source": [
    "### Usando o método de força bruta\n",
    "\n",
    "1) testar, para cada combinação de m colunas de A, se elas formam uma base; \n",
    "\n",
    "2) calcular, para cada base, a solução básica associada a ela; \n",
    "\n",
    "3) calcular, para todas as SBV obtidas, o valor da função objetivo."
   ]
  },
  {
   "cell_type": "code",
   "execution_count": 2,
   "metadata": {},
   "outputs": [],
   "source": [
    "from math import factorial\n",
    "from __future__ import print_function\n",
    "import numpy as np\n",
    "import pandas as pd\n",
    "from matplotlib import pyplot as plt"
   ]
  },
  {
   "cell_type": "code",
   "execution_count": 3,
   "metadata": {},
   "outputs": [],
   "source": [
    "A = np.array([[1, 1, 1, 0, 0],\n",
    "              [2, 1, 0, 1, 0],\n",
    "              [1, 0, 0, 0, 1]])"
   ]
  },
  {
   "cell_type": "code",
   "execution_count": 4,
   "metadata": {},
   "outputs": [
    {
     "name": "stdout",
     "output_type": "stream",
     "text": [
      "m: 3\n",
      "n: 5\n"
     ]
    }
   ],
   "source": [
    "m = len(A)\n",
    "print('m:', m)\n",
    "\n",
    "n = len(A[0])\n",
    "print('n:', n)"
   ]
  },
  {
   "cell_type": "code",
   "execution_count": 5,
   "metadata": {},
   "outputs": [
    {
     "name": "stdout",
     "output_type": "stream",
     "text": [
      "O número máximo de soluções básicas: 10.0\n"
     ]
    }
   ],
   "source": [
    "combinacoes = factorial(n)/(factorial(m)*(factorial(n-m)))\n",
    "\n",
    "print('O número máximo de soluções básicas:', combinacoes)"
   ]
  },
  {
   "cell_type": "code",
   "execution_count": 6,
   "metadata": {},
   "outputs": [],
   "source": [
    "b = np.array([[4], \n",
    "              [6],\n",
    "              [3]])"
   ]
  },
  {
   "cell_type": "code",
   "execution_count": 7,
   "metadata": {},
   "outputs": [],
   "source": [
    "c = np.array([-1, -2, 0, 0, 0])"
   ]
  },
  {
   "cell_type": "code",
   "execution_count": 8,
   "metadata": {},
   "outputs": [],
   "source": [
    "def verifica_solucao_viavel(x):\n",
    "    '''\n",
    "        Função que verifica se a solução é viável\n",
    "        \n",
    "        >>> verifica_solucao_viavel([0, 0, [125.], 0, [125.], [475.], 0])\n",
    "            Esta é uma solução básica viável\n",
    "            True\n",
    "        >> verifica_solucao_viavel([0, 0, 0, [300.], [-950.], 0, [500.]])\n",
    "            Esta NÃO é uma solução básica viável\n",
    "            False\n",
    "        >> verifica_solucao_viavel([1, 0, 1, 0, 1, 0, 0])\n",
    "            Esta é uma solução básica viável\n",
    "            True\n",
    "    '''\n",
    "    \n",
    "    xB_bool = []\n",
    "\n",
    "    for w in range(0, len(x)):\n",
    "        if(x[w] >= 0):\n",
    "            xB_bool.append(True)           \n",
    "        else:\n",
    "            xB_bool.append(False)\n",
    "\n",
    "        try:\n",
    "            if(x[w][0] >= 0):\n",
    "                xB_bool.append(True)\n",
    "            else:\n",
    "                xB_bool.append(False)\n",
    "        except:\n",
    "            pass\n",
    "            \n",
    "    if(all(xB_bool)):\n",
    "        print('Esta é uma solução básica viável')\n",
    "        return True\n",
    "    else:\n",
    "        print('Esta NÃO é uma solução básica viável')\n",
    "        return False"
   ]
  },
  {
   "cell_type": "code",
   "execution_count": 9,
   "metadata": {},
   "outputs": [
    {
     "name": "stdout",
     "output_type": "stream",
     "text": [
      "\n",
      "x 1\n",
      "IB = 1 2 3\n",
      "B = [[1 1 1]\n",
      " [2 1 0]\n",
      " [1 0 0]] \n",
      "\n",
      "B-1 = [[ 0.  0.  1.]\n",
      " [ 0.  1. -2.]\n",
      " [ 1. -1.  1.]] \n",
      "\n",
      "xB = [[3.]\n",
      " [0.]\n",
      " [1.]] \n",
      "\n",
      "x = [array([3.]), array([0.]), array([1.]), 0, 0] \n",
      "\n",
      "cTx = [-3.] \n",
      "\n",
      "Esta é uma solução básica viável\n",
      "\n",
      "---------------------------------------------------------------------------\n",
      "\n",
      "\n",
      "x 2\n",
      "IB = 1 2 4\n",
      "B = [[1 1 0]\n",
      " [2 1 1]\n",
      " [1 0 0]] \n",
      "\n",
      "B-1 = [[ 0.  0.  1.]\n",
      " [ 1.  0. -1.]\n",
      " [-1.  1. -1.]] \n",
      "\n",
      "xB = [[ 3.]\n",
      " [ 1.]\n",
      " [-1.]] \n",
      "\n",
      "x = [array([3.]), array([1.]), 0, array([-1.]), 0] \n",
      "\n",
      "cTx = [-5.] \n",
      "\n",
      "Esta NÃO é uma solução básica viável\n",
      "\n",
      "---------------------------------------------------------------------------\n",
      "\n",
      "\n",
      "x 3\n",
      "IB = 1 2 5\n",
      "B = [[1 1 0]\n",
      " [2 1 0]\n",
      " [1 0 1]] \n",
      "\n",
      "B-1 = [[-1.  1.  0.]\n",
      " [ 2. -1.  0.]\n",
      " [ 1. -1.  1.]] \n",
      "\n",
      "xB = [[2.]\n",
      " [2.]\n",
      " [1.]] \n",
      "\n",
      "x = [array([2.]), array([2.]), 0, 0, array([1.])] \n",
      "\n",
      "cTx = [-6.] \n",
      "\n",
      "Esta é uma solução básica viável\n",
      "\n",
      "---------------------------------------------------------------------------\n",
      "\n",
      "\n",
      "x 4\n",
      "IB = 1 3 4\n",
      "B = [[1 1 0]\n",
      " [2 0 1]\n",
      " [1 0 0]] \n",
      "\n",
      "B-1 = [[ 0.  0.  1.]\n",
      " [ 1.  0. -1.]\n",
      " [-0.  1. -2.]] \n",
      "\n",
      "xB = [[3.]\n",
      " [1.]\n",
      " [0.]] \n",
      "\n",
      "x = [array([3.]), 0, array([1.]), array([0.]), 0] \n",
      "\n",
      "cTx = [-3.] \n",
      "\n",
      "Esta é uma solução básica viável\n",
      "\n",
      "---------------------------------------------------------------------------\n",
      "\n",
      "\n",
      "x 5\n",
      "IB = 1 3 5\n",
      "B = [[1 1 0]\n",
      " [2 0 0]\n",
      " [1 0 1]] \n",
      "\n",
      "B-1 = [[ 0.   0.5  0. ]\n",
      " [ 1.  -0.5  0. ]\n",
      " [ 0.  -0.5  1. ]] \n",
      "\n",
      "xB = [[3.]\n",
      " [1.]\n",
      " [0.]] \n",
      "\n",
      "x = [array([3.]), 0, array([1.]), 0, array([0.])] \n",
      "\n",
      "cTx = [-3.] \n",
      "\n",
      "Esta é uma solução básica viável\n",
      "\n",
      "---------------------------------------------------------------------------\n",
      "\n",
      "\n",
      "x 6\n",
      "IB = 1 4 5\n",
      "B = [[1 0 0]\n",
      " [2 1 0]\n",
      " [1 0 1]] \n",
      "\n",
      "B-1 = [[ 1.  0.  0.]\n",
      " [-2.  1. -0.]\n",
      " [-1.  0.  1.]] \n",
      "\n",
      "xB = [[ 4.]\n",
      " [-2.]\n",
      " [-1.]] \n",
      "\n",
      "x = [array([4.]), 0, 0, array([-2.]), array([-1.])] \n",
      "\n",
      "cTx = [-4.] \n",
      "\n",
      "Esta NÃO é uma solução básica viável\n",
      "\n",
      "---------------------------------------------------------------------------\n",
      "\n",
      "\n",
      "x 7\n",
      "IB = 2 3 4\n",
      "B = [[1 1 0]\n",
      " [1 0 1]\n",
      " [0 0 0]] \n",
      "\n",
      "A matriz B não é uma base\n",
      "A linha LD é:\n",
      "[[0 0 0]]\n",
      "\n",
      "---------------------------------------------------------------------------\n",
      "\n",
      "\n",
      "x 8\n",
      "IB = 2 3 5\n",
      "B = [[1 1 0]\n",
      " [1 0 0]\n",
      " [0 0 1]] \n",
      "\n",
      "B-1 = [[ 0.  1.  0.]\n",
      " [ 1. -1. -0.]\n",
      " [ 0.  0.  1.]] \n",
      "\n",
      "xB = [[ 6.]\n",
      " [-2.]\n",
      " [ 3.]] \n",
      "\n",
      "x = [0, array([6.]), array([-2.]), 0, array([3.])] \n",
      "\n",
      "cTx = [-12.] \n",
      "\n",
      "Esta NÃO é uma solução básica viável\n",
      "\n",
      "---------------------------------------------------------------------------\n",
      "\n",
      "\n",
      "x 9\n",
      "IB = 2 4 5\n",
      "B = [[1 0 0]\n",
      " [1 1 0]\n",
      " [0 0 1]] \n",
      "\n",
      "B-1 = [[ 1.  0.  0.]\n",
      " [-1.  1.  0.]\n",
      " [ 0.  0.  1.]] \n",
      "\n",
      "xB = [[4.]\n",
      " [2.]\n",
      " [3.]] \n",
      "\n",
      "x = [0, array([4.]), 0, array([2.]), array([3.])] \n",
      "\n",
      "cTx = [-8.] \n",
      "\n",
      "Esta é uma solução básica viável\n",
      "\n",
      "---------------------------------------------------------------------------\n",
      "\n",
      "\n",
      "x 10\n",
      "IB = 3 4 5\n",
      "B = [[1 0 0]\n",
      " [0 1 0]\n",
      " [0 0 1]] \n",
      "\n",
      "B-1 = [[1. 0. 0.]\n",
      " [0. 1. 0.]\n",
      " [0. 0. 1.]] \n",
      "\n",
      "xB = [[4.]\n",
      " [6.]\n",
      " [3.]] \n",
      "\n",
      "x = [0, 0, array([4.]), array([6.]), array([3.])] \n",
      "\n",
      "cTx = [0.] \n",
      "\n",
      "Esta é uma solução básica viável\n",
      "\n",
      "---------------------------------------------------------------------------\n",
      "\n"
     ]
    },
    {
     "name": "stderr",
     "output_type": "stream",
     "text": [
      "<ipython-input-9-4fa4422366a6>:1: VisibleDeprecationWarning: Creating an ndarray from ragged nested sequences (which is a list-or-tuple of lists-or-tuples-or ndarrays with different lengths or shapes) is deprecated. If you meant to do this, you must specify 'dtype=object' when creating the ndarray.\n",
      "  solucoes_viaveis = np.array([[0,0,0], 0,0,0])\n",
      "<ipython-input-9-4fa4422366a6>:2: VisibleDeprecationWarning: Creating an ndarray from ragged nested sequences (which is a list-or-tuple of lists-or-tuples-or ndarrays with different lengths or shapes) is deprecated. If you meant to do this, you must specify 'dtype=object' when creating the ndarray.\n",
      "  todas_solucoes = np.array([[0,0,0], 0,0,0])\n",
      "<ipython-input-9-4fa4422366a6>:63: VisibleDeprecationWarning: Creating an ndarray from ragged nested sequences (which is a list-or-tuple of lists-or-tuples-or ndarrays with different lengths or shapes) is deprecated. If you meant to do this, you must specify 'dtype=object' when creating the ndarray.\n",
      "  cTx = np.transpose(c).dot(x)\n",
      "/home/myllah/anaconda3/lib/python3.8/site-packages/numpy/core/_asarray.py:171: VisibleDeprecationWarning: Creating an ndarray from ragged nested sequences (which is a list-or-tuple of lists-or-tuples-or ndarrays with different lengths or shapes) is deprecated. If you meant to do this, you must specify 'dtype=object' when creating the ndarray.\n",
      "  return array(a, dtype, copy=False, order=order, subok=True)\n"
     ]
    }
   ],
   "source": [
    "solucoes_viaveis = np.array([[0,0,0], 0,0,0])\n",
    "todas_solucoes = np.array([[0,0,0], 0,0,0])\n",
    "cont_x = 0\n",
    "\n",
    "for w in range(0, n):\n",
    "    for y in range(w+1, n):\n",
    "        for z in range(y+1, n):\n",
    "            \n",
    "            # Id da solução\n",
    "            cont_x = cont_x + 1;\n",
    "            print('\\nx', cont_x)\n",
    "            \n",
    "            # Conjunto de índices IB\n",
    "            IB = [w,y,z]\n",
    "            print('IB =', IB[0]+1, IB[1]+1, IB[2]+1)\n",
    "            \n",
    "            # B\n",
    "            B = np.array([A[0][w], A[0][y], A[0][z]])\n",
    "            for v in range (1, m):\n",
    "                B = np.row_stack(tup=(B, [A[v][w], A[v][y], A[v][z]]))\n",
    "            print('B =', B, '\\n')\n",
    "            \n",
    "            # Verificando se B é uma base\n",
    "            v, V =  np.linalg.eig(B)\n",
    "            if(v.all() == 0):\n",
    "                print('A matriz B não é uma base')\n",
    "                print('A linha LD é:')\n",
    "                print (B[v == 0,:])\n",
    "                print('\\n---------------------------------------------------------------------------\\n')\n",
    "                \n",
    "                # Colocar na tabela de soluções básicas, com informações vazias\n",
    "                todas_solucoes = np.row_stack((todas_solucoes, [[IB[0]+1, IB[1]+1, IB[2]+1], cont_x, [], []]))\n",
    "                continue\n",
    "\n",
    "            # B-1\n",
    "            try:\n",
    "                B1 = np.linalg.inv(B)\n",
    "                print('B-1 =', B1, '\\n')\n",
    "            except:\n",
    "                print(\"B-1 não existe\")\n",
    "                todas_solucoes = np.row_stack((todas_solucoes, [[IB[0]+1, IB[1]+1, IB[2]+1], cont_x, [], []]))\n",
    "                print('\\n---------------------------------------------------------------------------\\n')\n",
    "                continue\n",
    "\n",
    "            # xB\n",
    "            xB = B1.dot(b)\n",
    "            print('xB =', xB, '\\n')\n",
    "            \n",
    "            # x\n",
    "            x = []\n",
    "            for v in range (0, n):              \n",
    "                if(v == IB[0]):\n",
    "                    x.append(np.round(xB[0]))\n",
    "                elif(v == IB[1]):\n",
    "                    x.append(np.round(xB[1]))\n",
    "                elif(v == IB[2]):\n",
    "                    x.append(np.round(xB[2]))\n",
    "                else:\n",
    "                    x.append(0)\n",
    "            print('x =', x, '\\n')\n",
    "                \n",
    "            # cTx\n",
    "            cTx = np.transpose(c).dot(x)\n",
    "            print('cTx =', cTx, '\\n')\n",
    "                \n",
    "            # Colocar na tabela de soluções básicas\n",
    "            todas_solucoes = np.row_stack((todas_solucoes, [[IB[0]+1, IB[1]+1, IB[2]+1], cont_x, float(cTx), x]))\n",
    "            \n",
    "            # Se a solução for viável, colocar na tabela de soluções viáveis\n",
    "            if(verifica_solucao_viavel(x) == True):\n",
    "                solucoes_viaveis = np.row_stack((solucoes_viaveis, [[IB[0]+1, IB[1]+1, IB[2]+1], cont_x, float(cTx), x]))\n",
    "            \n",
    "            print('\\n---------------------------------------------------------------------------\\n')\n"
   ]
  },
  {
   "cell_type": "code",
   "execution_count": 10,
   "metadata": {},
   "outputs": [
    {
     "data": {
      "text/plain": [
       "array([[[0, 0, 0], 0, 0, 0],\n",
       "       [[1, 2, 3], 1, -3.0, [3.0, 0.0, 1.0, 0, 0]],\n",
       "       [[1, 2, 4], 2, -5.0, [3.0, 1.0, 0, -1.0, 0]],\n",
       "       [[1, 2, 5], 3, -6.0, [2.0, 2.0, 0, 0, 1.0]],\n",
       "       [[1, 3, 4], 4, -3.0, [3.0, 0, 1.0, 0.0, 0]],\n",
       "       [[1, 3, 5], 5, -3.0, [3.0, 0, 1.0, 0, 0.0]],\n",
       "       [[1, 4, 5], 6, -4.0, [4.0, 0, 0, -2.0, -1.0]],\n",
       "       [[2, 3, 4], 7, [], []],\n",
       "       [[2, 3, 5], 8, -12.0, [0, 6.0, -2.0, 0, 3.0]],\n",
       "       [[2, 4, 5], 9, -8.0, [0, 4.0, 0, 2.0, 3.0]],\n",
       "       [[3, 4, 5], 10, 0.0, [0, 0, 4.0, 6.0, 3.0]]], dtype=object)"
      ]
     },
     "execution_count": 10,
     "metadata": {},
     "output_type": "execute_result"
    }
   ],
   "source": [
    "## Formatando os valores do todas_solucoes para sair bonitinho na tabela\n",
    "\n",
    "for x in range(1, len(todas_solucoes)):\n",
    "    try:\n",
    "        todas_solucoes[x][2] = todas_solucoes[x][2][0]\n",
    "    except:\n",
    "        pass\n",
    "\n",
    "for x in range(1, len(todas_solucoes)):\n",
    "    for y in range(0, len(todas_solucoes)):\n",
    "        try:\n",
    "            todas_solucoes[x][3][y] = todas_solucoes[x][3][y][0]\n",
    "        except:\n",
    "            pass\n",
    "\n",
    "todas_solucoes"
   ]
  },
  {
   "cell_type": "code",
   "execution_count": 11,
   "metadata": {},
   "outputs": [
    {
     "name": "stdout",
     "output_type": "stream",
     "text": [
      "Todas as soluções:\n"
     ]
    },
    {
     "data": {
      "text/html": [
       "<div>\n",
       "<style scoped>\n",
       "    .dataframe tbody tr th:only-of-type {\n",
       "        vertical-align: middle;\n",
       "    }\n",
       "\n",
       "    .dataframe tbody tr th {\n",
       "        vertical-align: top;\n",
       "    }\n",
       "\n",
       "    .dataframe thead th {\n",
       "        text-align: right;\n",
       "    }\n",
       "</style>\n",
       "<table border=\"1\" class=\"dataframe\">\n",
       "  <thead>\n",
       "    <tr style=\"text-align: right;\">\n",
       "      <th></th>\n",
       "      <th>Conjunto de índices base</th>\n",
       "      <th>Id da solução</th>\n",
       "      <th>cTx</th>\n",
       "      <th>Solução básica associada à base</th>\n",
       "    </tr>\n",
       "  </thead>\n",
       "  <tbody>\n",
       "    <tr>\n",
       "      <th>0</th>\n",
       "      <td>[1, 2, 3]</td>\n",
       "      <td>1</td>\n",
       "      <td>-3.0</td>\n",
       "      <td>[3.0, 0.0, 1.0, 0, 0]</td>\n",
       "    </tr>\n",
       "    <tr>\n",
       "      <th>1</th>\n",
       "      <td>[1, 2, 4]</td>\n",
       "      <td>2</td>\n",
       "      <td>-5.0</td>\n",
       "      <td>[3.0, 1.0, 0, -1.0, 0]</td>\n",
       "    </tr>\n",
       "    <tr>\n",
       "      <th>2</th>\n",
       "      <td>[1, 2, 5]</td>\n",
       "      <td>3</td>\n",
       "      <td>-6.0</td>\n",
       "      <td>[2.0, 2.0, 0, 0, 1.0]</td>\n",
       "    </tr>\n",
       "    <tr>\n",
       "      <th>3</th>\n",
       "      <td>[1, 3, 4]</td>\n",
       "      <td>4</td>\n",
       "      <td>-3.0</td>\n",
       "      <td>[3.0, 0, 1.0, 0.0, 0]</td>\n",
       "    </tr>\n",
       "    <tr>\n",
       "      <th>4</th>\n",
       "      <td>[1, 3, 5]</td>\n",
       "      <td>5</td>\n",
       "      <td>-3.0</td>\n",
       "      <td>[3.0, 0, 1.0, 0, 0.0]</td>\n",
       "    </tr>\n",
       "    <tr>\n",
       "      <th>5</th>\n",
       "      <td>[1, 4, 5]</td>\n",
       "      <td>6</td>\n",
       "      <td>-4.0</td>\n",
       "      <td>[4.0, 0, 0, -2.0, -1.0]</td>\n",
       "    </tr>\n",
       "    <tr>\n",
       "      <th>6</th>\n",
       "      <td>[2, 3, 4]</td>\n",
       "      <td>7</td>\n",
       "      <td>[]</td>\n",
       "      <td>[]</td>\n",
       "    </tr>\n",
       "    <tr>\n",
       "      <th>7</th>\n",
       "      <td>[2, 3, 5]</td>\n",
       "      <td>8</td>\n",
       "      <td>-12.0</td>\n",
       "      <td>[0, 6.0, -2.0, 0, 3.0]</td>\n",
       "    </tr>\n",
       "    <tr>\n",
       "      <th>8</th>\n",
       "      <td>[2, 4, 5]</td>\n",
       "      <td>9</td>\n",
       "      <td>-8.0</td>\n",
       "      <td>[0, 4.0, 0, 2.0, 3.0]</td>\n",
       "    </tr>\n",
       "    <tr>\n",
       "      <th>9</th>\n",
       "      <td>[3, 4, 5]</td>\n",
       "      <td>10</td>\n",
       "      <td>0.0</td>\n",
       "      <td>[0, 0, 4.0, 6.0, 3.0]</td>\n",
       "    </tr>\n",
       "  </tbody>\n",
       "</table>\n",
       "</div>"
      ],
      "text/plain": [
       "  Conjunto de índices base Id da solução   cTx Solução básica associada à base\n",
       "0                [1, 2, 3]             1  -3.0           [3.0, 0.0, 1.0, 0, 0]\n",
       "1                [1, 2, 4]             2  -5.0          [3.0, 1.0, 0, -1.0, 0]\n",
       "2                [1, 2, 5]             3  -6.0           [2.0, 2.0, 0, 0, 1.0]\n",
       "3                [1, 3, 4]             4  -3.0           [3.0, 0, 1.0, 0.0, 0]\n",
       "4                [1, 3, 5]             5  -3.0           [3.0, 0, 1.0, 0, 0.0]\n",
       "5                [1, 4, 5]             6  -4.0         [4.0, 0, 0, -2.0, -1.0]\n",
       "6                [2, 3, 4]             7    []                              []\n",
       "7                [2, 3, 5]             8 -12.0          [0, 6.0, -2.0, 0, 3.0]\n",
       "8                [2, 4, 5]             9  -8.0           [0, 4.0, 0, 2.0, 3.0]\n",
       "9                [3, 4, 5]            10   0.0           [0, 0, 4.0, 6.0, 3.0]"
      ]
     },
     "execution_count": 11,
     "metadata": {},
     "output_type": "execute_result"
    }
   ],
   "source": [
    "print(\"Todas as soluções:\")\n",
    "\n",
    "todas_solucoes = pd.DataFrame(todas_solucoes[1:,:], columns=['Conjunto de índices base', 'Id da solução', 'cTx', 'Solução básica associada à base'])\n",
    "todas_solucoes.sort_values(by=['Id da solução'])\n",
    "\n",
    "todas_solucoes"
   ]
  },
  {
   "cell_type": "code",
   "execution_count": 12,
   "metadata": {},
   "outputs": [
    {
     "name": "stdout",
     "output_type": "stream",
     "text": [
      "\n",
      "Quantidade de soluções básicas:  9\n"
     ]
    }
   ],
   "source": [
    "qtd_solucoes_basicas = list(map(lambda z, sb=0: sb if z == [] else sb+1, todas_solucoes.loc[:, 'cTx'])).count(1)\n",
    "\n",
    "print(\"\\nQuantidade de soluções básicas: \", qtd_solucoes_basicas)"
   ]
  },
  {
   "cell_type": "code",
   "execution_count": 13,
   "metadata": {},
   "outputs": [
    {
     "data": {
      "text/plain": [
       "array([[[0, 0, 0], 0, 0, 0],\n",
       "       [[1, 2, 3], 1, -3.0, [3.0, 0.0, 1.0, 0, 0]],\n",
       "       [[1, 2, 5], 3, -6.0, [2.0, 2.0, 0, 0, 1.0]],\n",
       "       [[1, 3, 4], 4, -3.0, [3.0, 0, 1.0, 0.0, 0]],\n",
       "       [[1, 3, 5], 5, -3.0, [3.0, 0, 1.0, 0, 0.0]],\n",
       "       [[2, 4, 5], 9, -8.0, [0, 4.0, 0, 2.0, 3.0]],\n",
       "       [[3, 4, 5], 10, 0.0, [0, 0, 4.0, 6.0, 3.0]]], dtype=object)"
      ]
     },
     "execution_count": 13,
     "metadata": {},
     "output_type": "execute_result"
    }
   ],
   "source": [
    "## Formatando os valores do solucoes_viaveis para sair bonitinho na tabela\n",
    "\n",
    "for x in range(1, len(solucoes_viaveis)):\n",
    "    try:\n",
    "        solucoes_viaveis[x][2] = solucoes_viaveis[x][2][0]\n",
    "    except:\n",
    "        pass\n",
    "\n",
    "for x in range(1, len(solucoes_viaveis)):\n",
    "    for y in range(0, len(solucoes_viaveis)):\n",
    "        try:\n",
    "            solucoes_viaveis[x][3][y] = solucoes_viaveis[x][3][y][0]\n",
    "        except:\n",
    "            pass\n",
    "\n",
    "solucoes_viaveis"
   ]
  },
  {
   "cell_type": "code",
   "execution_count": 14,
   "metadata": {},
   "outputs": [
    {
     "name": "stdout",
     "output_type": "stream",
     "text": [
      "Soluções viáveis:\n"
     ]
    },
    {
     "data": {
      "text/html": [
       "<div>\n",
       "<style scoped>\n",
       "    .dataframe tbody tr th:only-of-type {\n",
       "        vertical-align: middle;\n",
       "    }\n",
       "\n",
       "    .dataframe tbody tr th {\n",
       "        vertical-align: top;\n",
       "    }\n",
       "\n",
       "    .dataframe thead th {\n",
       "        text-align: right;\n",
       "    }\n",
       "</style>\n",
       "<table border=\"1\" class=\"dataframe\">\n",
       "  <thead>\n",
       "    <tr style=\"text-align: right;\">\n",
       "      <th></th>\n",
       "      <th>Conjunto de índices base</th>\n",
       "      <th>Id da solução</th>\n",
       "      <th>cTx</th>\n",
       "      <th>Solução básica associada à base</th>\n",
       "    </tr>\n",
       "  </thead>\n",
       "  <tbody>\n",
       "    <tr>\n",
       "      <th>0</th>\n",
       "      <td>[1, 2, 3]</td>\n",
       "      <td>1</td>\n",
       "      <td>-3.0</td>\n",
       "      <td>[3.0, 0.0, 1.0, 0, 0]</td>\n",
       "    </tr>\n",
       "    <tr>\n",
       "      <th>1</th>\n",
       "      <td>[1, 2, 5]</td>\n",
       "      <td>3</td>\n",
       "      <td>-6.0</td>\n",
       "      <td>[2.0, 2.0, 0, 0, 1.0]</td>\n",
       "    </tr>\n",
       "    <tr>\n",
       "      <th>2</th>\n",
       "      <td>[1, 3, 4]</td>\n",
       "      <td>4</td>\n",
       "      <td>-3.0</td>\n",
       "      <td>[3.0, 0, 1.0, 0.0, 0]</td>\n",
       "    </tr>\n",
       "    <tr>\n",
       "      <th>3</th>\n",
       "      <td>[1, 3, 5]</td>\n",
       "      <td>5</td>\n",
       "      <td>-3.0</td>\n",
       "      <td>[3.0, 0, 1.0, 0, 0.0]</td>\n",
       "    </tr>\n",
       "    <tr>\n",
       "      <th>4</th>\n",
       "      <td>[2, 4, 5]</td>\n",
       "      <td>9</td>\n",
       "      <td>-8.0</td>\n",
       "      <td>[0, 4.0, 0, 2.0, 3.0]</td>\n",
       "    </tr>\n",
       "    <tr>\n",
       "      <th>5</th>\n",
       "      <td>[3, 4, 5]</td>\n",
       "      <td>10</td>\n",
       "      <td>0.0</td>\n",
       "      <td>[0, 0, 4.0, 6.0, 3.0]</td>\n",
       "    </tr>\n",
       "  </tbody>\n",
       "</table>\n",
       "</div>"
      ],
      "text/plain": [
       "  Conjunto de índices base Id da solução  cTx Solução básica associada à base\n",
       "0                [1, 2, 3]             1 -3.0           [3.0, 0.0, 1.0, 0, 0]\n",
       "1                [1, 2, 5]             3 -6.0           [2.0, 2.0, 0, 0, 1.0]\n",
       "2                [1, 3, 4]             4 -3.0           [3.0, 0, 1.0, 0.0, 0]\n",
       "3                [1, 3, 5]             5 -3.0           [3.0, 0, 1.0, 0, 0.0]\n",
       "4                [2, 4, 5]             9 -8.0           [0, 4.0, 0, 2.0, 3.0]\n",
       "5                [3, 4, 5]            10  0.0           [0, 0, 4.0, 6.0, 3.0]"
      ]
     },
     "execution_count": 14,
     "metadata": {},
     "output_type": "execute_result"
    }
   ],
   "source": [
    "print(\"Soluções viáveis:\")\n",
    "\n",
    "solucoes_viaveis = pd.DataFrame(solucoes_viaveis[1:,:], columns=['Conjunto de índices base', 'Id da solução', 'cTx', 'Solução básica associada à base'])\n",
    "solucoes_viaveis.sort_values(by=['Id da solução'])\n",
    "\n",
    "solucoes_viaveis"
   ]
  },
  {
   "cell_type": "code",
   "execution_count": 15,
   "metadata": {},
   "outputs": [
    {
     "name": "stdout",
     "output_type": "stream",
     "text": [
      "\n",
      "Quantidade de soluções viáveis:  6\n"
     ]
    }
   ],
   "source": [
    "qtd_solucoes_viaveis = len(solucoes_viaveis)\n",
    "print(\"\\nQuantidade de soluções viáveis: \", qtd_solucoes_viaveis)"
   ]
  },
  {
   "cell_type": "code",
   "execution_count": 16,
   "metadata": {},
   "outputs": [
    {
     "name": "stdout",
     "output_type": "stream",
     "text": [
      "Solução Ótima: -8.0\n"
     ]
    }
   ],
   "source": [
    "## Digite 1 se você deseja maximizar ou 2 se você deseja minimizar\n",
    "entrada = 2\n",
    "\n",
    "if(entrada == 1):\n",
    "    id_solucao_otima = solucoes_viaveis['cTx'].astype(float).argmax()\n",
    "elif(entrada == 2):\n",
    "    id_solucao_otima = solucoes_viaveis['cTx'].astype(float).argmin()\n",
    "    \n",
    "solucao_otima = solucoes_viaveis['cTx'][id_solucao_otima]\n",
    "\n",
    "print('Solução Ótima:', solucao_otima)"
   ]
  },
  {
   "cell_type": "code",
   "execution_count": 17,
   "metadata": {},
   "outputs": [
    {
     "name": "stdout",
     "output_type": "stream",
     "text": [
      "\n",
      "Soluções que geram a solução ótima:\n",
      "\n"
     ]
    },
    {
     "data": {
      "text/html": [
       "<div>\n",
       "<style scoped>\n",
       "    .dataframe tbody tr th:only-of-type {\n",
       "        vertical-align: middle;\n",
       "    }\n",
       "\n",
       "    .dataframe tbody tr th {\n",
       "        vertical-align: top;\n",
       "    }\n",
       "\n",
       "    .dataframe thead th {\n",
       "        text-align: right;\n",
       "    }\n",
       "</style>\n",
       "<table border=\"1\" class=\"dataframe\">\n",
       "  <thead>\n",
       "    <tr style=\"text-align: right;\">\n",
       "      <th></th>\n",
       "      <th>Conjunto de índices base</th>\n",
       "      <th>Id da solução</th>\n",
       "      <th>cTx</th>\n",
       "      <th>Solução básica associada à base</th>\n",
       "    </tr>\n",
       "  </thead>\n",
       "  <tbody>\n",
       "    <tr>\n",
       "      <th>4</th>\n",
       "      <td>[2, 4, 5]</td>\n",
       "      <td>9</td>\n",
       "      <td>-8.0</td>\n",
       "      <td>[0, 4.0, 0, 2.0, 3.0]</td>\n",
       "    </tr>\n",
       "  </tbody>\n",
       "</table>\n",
       "</div>"
      ],
      "text/plain": [
       "  Conjunto de índices base Id da solução  cTx Solução básica associada à base\n",
       "4                [2, 4, 5]             9 -8.0           [0, 4.0, 0, 2.0, 3.0]"
      ]
     },
     "execution_count": 17,
     "metadata": {},
     "output_type": "execute_result"
    }
   ],
   "source": [
    "print('\\nSoluções que geram a solução ótima:\\n')\n",
    "\n",
    "geram_solucoes_otimas = solucoes_viaveis.loc[solucoes_viaveis['cTx'] == solucao_otima, :]\n",
    "\n",
    "geram_solucoes_otimas"
   ]
  },
  {
   "cell_type": "code",
   "execution_count": 18,
   "metadata": {},
   "outputs": [
    {
     "name": "stdout",
     "output_type": "stream",
     "text": [
      "\n",
      "Quantidade de soluções viáveis:  6\n",
      "\n",
      "Quantidade de soluções básicas:  9\n",
      "\n",
      "O número máximo de soluções básicas: 10.0\n",
      "\n",
      "Solução Ótima: -8.0\n"
     ]
    }
   ],
   "source": [
    "print(\"\\nQuantidade de soluções viáveis: \", qtd_solucoes_viaveis)\n",
    "print(\"\\nQuantidade de soluções básicas: \", qtd_solucoes_basicas)\n",
    "print('\\nO número máximo de soluções básicas:', combinacoes)\n",
    "print('\\nSolução Ótima:', solucao_otima)"
   ]
  },
  {
   "cell_type": "code",
   "execution_count": 19,
   "metadata": {},
   "outputs": [
    {
     "data": {
      "image/png": "[encoded data removed]",
      "text/plain": [
       "<Figure size 432x288 with 1 Axes>"
      ]
     },
     "metadata": {
      "needs_background": "light"
     },
     "output_type": "display_data"
    }
   ],
   "source": [
    "plt.plot([0, 4], [4, 0]) # x1 + x2 + x3 = 4\n",
    "plt.plot([0, 3], [6, 0]) # 2x1 + x2 + x4 = 6\n",
    "plt.plot([3, 3], [8, 0]) # x1 + x5 = 3\n",
    "plt.plot([0, 0], [0, 8]) # x2 >= 0\n",
    "plt.plot([0, 8], [0, 0]) # x1 >= 0\n",
    "\n",
    "plt.xlabel('Eixo X')\n",
    "plt.ylabel('Eixo Y')\n",
    "\n",
    "plt.axis([-1, 8, -1, 8]) # [xmin, xmax, ymin, ymax]\n",
    "\n",
    "plt.show()"
   ]
  },
  {
   "cell_type": "code",
   "execution_count": 20,
   "metadata": {},
   "outputs": [
    {
     "name": "stdout",
     "output_type": "stream",
     "text": [
      "4 <= 6 <= 9 <= 10.0\n"
     ]
    }
   ],
   "source": [
    "qtd_pontos_extremos = 4\n",
    "\n",
    "# |pe| ≤ |sbv| ≤ |sb| ≤ Cn,m\n",
    "print(qtd_pontos_extremos, '<=', qtd_solucoes_viaveis, '<=', qtd_solucoes_basicas, '<=', combinacoes)"
   ]
  },
  {
   "cell_type": "markdown",
   "metadata": {},
   "source": [
    "## Questão 02\n",
    "\n",
    "                                        |pe| ≤ |sbv| ≤ |sb| ≤ Cn,m\n",
    "\n",
    "Encontre os pontos extremos, as soluções básicas e as soluções básicas viáveis do PPL abaixo e verifique que as desigualdades acima são atendidas"
   ]
  },
  {
   "cell_type": "markdown",
   "metadata": {},
   "source": [
    "maximizar 5x1 + 2x2\n",
    "\n",
    "sujeito a: \n",
    "\n",
    "x1 - x2 >= 0\n",
    "\n",
    "x1 <= 4\n",
    "\n",
    "x1, x2 >= 0"
   ]
  },
  {
   "cell_type": "code",
   "execution_count": 21,
   "metadata": {},
   "outputs": [
    {
     "name": "stdout",
     "output_type": "stream",
     "text": [
      "solution for: Questão-01\n",
      "objective: 28\n",
      "x_1=4\n",
      "x_2=4\n",
      "\n"
     ]
    }
   ],
   "source": [
    "from docplex.mp.model import Model\n",
    "import cplex\n",
    "\n",
    "m = Model(name='Questão-01')\n",
    "x_1 = m.integer_var(name='x_1')\n",
    "x_2 = m.integer_var(name='x_2')\n",
    "\n",
    "m.add_constraint(x_1 - x_2 >= 0)\n",
    "m.add_constraint(x_1 <= 4)\n",
    "m.add_constraint(x_1 >= 0)\n",
    "m.add_constraint(x_2 >= 0)\n",
    "\n",
    "m.maximize(5*x_1 + 2*x_2)\n",
    "m.solve()\n",
    "print(m.solution)"
   ]
  },
  {
   "cell_type": "markdown",
   "metadata": {},
   "source": [
    "### Usando o método de força bruta\n",
    "\n",
    "1) testar, para cada combinação de m colunas de A, se elas formam uma base; \n",
    "\n",
    "2) calcular, para cada base, a solução básica associada a ela; \n",
    "\n",
    "3) calcular, para todas as SBV obtidas, o valor da função objetivo."
   ]
  },
  {
   "cell_type": "markdown",
   "metadata": {},
   "source": [
    "**Forma Padrão:**\n",
    "\n",
    "maximizar 5x1 + 2x2\n",
    "\n",
    "sujeito a: \n",
    "\n",
    "x1 - x2 - x3 = 0\n",
    "\n",
    "x1 + x4 = 4\n",
    "\n",
    "x1, x2, x3, x4 >= 0"
   ]
  },
  {
   "cell_type": "code",
   "execution_count": 22,
   "metadata": {},
   "outputs": [],
   "source": [
    "from math import factorial\n",
    "from __future__ import print_function\n",
    "import numpy as np\n",
    "import pandas as pd\n",
    "from matplotlib import pyplot as plt"
   ]
  },
  {
   "cell_type": "code",
   "execution_count": 23,
   "metadata": {},
   "outputs": [],
   "source": [
    "A = np.array([[1, -1, -1, 0],\n",
    "              [1, 0, 0, 1]])"
   ]
  },
  {
   "cell_type": "code",
   "execution_count": 24,
   "metadata": {},
   "outputs": [],
   "source": [
    "b = np.array([[0], \n",
    "              [4]])"
   ]
  },
  {
   "cell_type": "code",
   "execution_count": 25,
   "metadata": {},
   "outputs": [],
   "source": [
    "c = np.array([5, 2, 0, 0])"
   ]
  },
  {
   "cell_type": "code",
   "execution_count": 26,
   "metadata": {},
   "outputs": [
    {
     "name": "stdout",
     "output_type": "stream",
     "text": [
      "m: 2\n",
      "n: 4\n",
      "O número máximo de soluções básicas: 6.0\n"
     ]
    }
   ],
   "source": [
    "m = len(A)\n",
    "print('m:', m)\n",
    "\n",
    "n = len(A[0])\n",
    "print('n:', n)\n",
    "\n",
    "combinacoes = factorial(n)/(factorial(m)*(factorial(n-m)))\n",
    "\n",
    "print('O número máximo de soluções básicas:', combinacoes)"
   ]
  },
  {
   "cell_type": "code",
   "execution_count": 27,
   "metadata": {},
   "outputs": [],
   "source": [
    "def verifica_solucao_viavel(x):\n",
    "    '''\n",
    "        Função que verifica se a solução é viável\n",
    "        \n",
    "        >>> verifica_solucao_viavel([0, 0, [125.], 0, [125.], [475.], 0])\n",
    "            Esta é uma solução básica viável\n",
    "            True\n",
    "        >> verifica_solucao_viavel([0, 0, 0, [300.], [-950.], 0, [500.]])\n",
    "            Esta NÃO é uma solução básica viável\n",
    "            False\n",
    "        >> verifica_solucao_viavel([1, 0, 1, 0, 1, 0, 0])\n",
    "            Esta é uma solução básica viável\n",
    "            True\n",
    "    '''\n",
    "    \n",
    "    xB_bool = []\n",
    "\n",
    "    for w in range(0, len(x)):\n",
    "        if(x[w] >= 0):\n",
    "            xB_bool.append(True)           \n",
    "        else:\n",
    "            xB_bool.append(False)\n",
    "\n",
    "        try:\n",
    "            if(x[w][0] >= 0):\n",
    "                xB_bool.append(True)\n",
    "            else:\n",
    "                xB_bool.append(False)\n",
    "        except:\n",
    "            pass\n",
    "            \n",
    "    if(all(xB_bool)):\n",
    "        print('Esta é uma solução básica viável')\n",
    "        return True\n",
    "    else:\n",
    "        print('Esta NÃO é uma solução básica viável')\n",
    "        return False"
   ]
  },
  {
   "cell_type": "code",
   "execution_count": 28,
   "metadata": {},
   "outputs": [
    {
     "name": "stdout",
     "output_type": "stream",
     "text": [
      "\n",
      "x 1\n",
      "IB = 1 2\n",
      "B = [[ 1 -1]\n",
      " [ 1  0]] \n",
      "\n",
      "B-1 = [[ 0.  1.]\n",
      " [-1.  1.]] \n",
      "\n",
      "xB = [[4.]\n",
      " [4.]] \n",
      "\n",
      "x = [array([4.]), array([4.]), 0, 0] \n",
      "\n",
      "cTx = [28.] \n",
      "\n",
      "Esta é uma solução básica viável\n",
      "\n",
      "---------------------------------------------------------------------------\n",
      "\n",
      "\n",
      "x 2\n",
      "IB = 1 3\n",
      "B = [[ 1 -1]\n",
      " [ 1  0]] \n",
      "\n",
      "B-1 = [[ 0.  1.]\n",
      " [-1.  1.]] \n",
      "\n",
      "xB = [[4.]\n",
      " [4.]] \n",
      "\n",
      "x = [array([4.]), 0, array([4.]), 0] \n",
      "\n",
      "cTx = [20.] \n",
      "\n",
      "Esta é uma solução básica viável\n",
      "\n",
      "---------------------------------------------------------------------------\n",
      "\n",
      "\n",
      "x 3\n",
      "IB = 1 4\n",
      "B = [[1 0]\n",
      " [1 1]] \n",
      "\n",
      "B-1 = [[ 1.  0.]\n",
      " [-1.  1.]] \n",
      "\n",
      "xB = [[0.]\n",
      " [4.]] \n",
      "\n",
      "x = [array([0.]), 0, 0, array([4.])] \n",
      "\n",
      "cTx = [0.] \n",
      "\n",
      "Esta é uma solução básica viável\n",
      "\n",
      "---------------------------------------------------------------------------\n",
      "\n",
      "\n",
      "x 4\n",
      "IB = 2 3\n",
      "B = [[-1 -1]\n",
      " [ 0  0]] \n",
      "\n",
      "A matriz B não é uma base\n",
      "A linha LD é:\n",
      "[[0 0]]\n",
      "\n",
      "---------------------------------------------------------------------------\n",
      "\n",
      "\n",
      "x 5\n",
      "IB = 2 4\n",
      "B = [[-1  0]\n",
      " [ 0  1]] \n",
      "\n",
      "B-1 = [[-1. -0.]\n",
      " [ 0.  1.]] \n",
      "\n",
      "xB = [[0.]\n",
      " [4.]] \n",
      "\n",
      "x = [0, array([0.]), 0, array([4.])] \n",
      "\n",
      "cTx = [0.] \n",
      "\n",
      "Esta é uma solução básica viável\n",
      "\n",
      "---------------------------------------------------------------------------\n",
      "\n",
      "\n",
      "x 6\n",
      "IB = 3 4\n",
      "B = [[-1  0]\n",
      " [ 0  1]] \n",
      "\n",
      "B-1 = [[-1. -0.]\n",
      " [ 0.  1.]] \n",
      "\n",
      "xB = [[0.]\n",
      " [4.]] \n",
      "\n",
      "x = [0, 0, array([0.]), array([4.])] \n",
      "\n",
      "cTx = [0.] \n",
      "\n",
      "Esta é uma solução básica viável\n",
      "\n",
      "---------------------------------------------------------------------------\n",
      "\n"
     ]
    },
    {
     "name": "stderr",
     "output_type": "stream",
     "text": [
      "<ipython-input-28-dd70da8a00ff>:1: VisibleDeprecationWarning: Creating an ndarray from ragged nested sequences (which is a list-or-tuple of lists-or-tuples-or ndarrays with different lengths or shapes) is deprecated. If you meant to do this, you must specify 'dtype=object' when creating the ndarray.\n",
      "  solucoes_viaveis = np.array([[0,0,0], 0,0,0])\n",
      "<ipython-input-28-dd70da8a00ff>:2: VisibleDeprecationWarning: Creating an ndarray from ragged nested sequences (which is a list-or-tuple of lists-or-tuples-or ndarrays with different lengths or shapes) is deprecated. If you meant to do this, you must specify 'dtype=object' when creating the ndarray.\n",
      "  todas_solucoes = np.array([[0,0,0], 0,0,0])\n",
      "<ipython-input-28-dd70da8a00ff>:54: VisibleDeprecationWarning: Creating an ndarray from ragged nested sequences (which is a list-or-tuple of lists-or-tuples-or ndarrays with different lengths or shapes) is deprecated. If you meant to do this, you must specify 'dtype=object' when creating the ndarray.\n",
      "  cTx = np.transpose(c).dot(x)\n",
      "/home/myllah/anaconda3/lib/python3.8/site-packages/numpy/core/_asarray.py:171: VisibleDeprecationWarning: Creating an ndarray from ragged nested sequences (which is a list-or-tuple of lists-or-tuples-or ndarrays with different lengths or shapes) is deprecated. If you meant to do this, you must specify 'dtype=object' when creating the ndarray.\n",
      "  return array(a, dtype, copy=False, order=order, subok=True)\n"
     ]
    }
   ],
   "source": [
    "solucoes_viaveis = np.array([[0,0,0], 0,0,0])\n",
    "todas_solucoes = np.array([[0,0,0], 0,0,0])\n",
    "cont_x = 0\n",
    "\n",
    "for w in range(0, n):\n",
    "    for y in range(w+1, n):\n",
    "            \n",
    "            # Id da solução\n",
    "            cont_x = cont_x + 1;\n",
    "            print('\\nx', cont_x)\n",
    "            \n",
    "            # Conjunto de índices IB\n",
    "            IB = [w,y]\n",
    "            print('IB =', IB[0]+1, IB[1]+1)\n",
    "            \n",
    "            # B\n",
    "            B = np.array([A[0][w], A[0][y]])\n",
    "            for v in range (1, m):\n",
    "                B = np.row_stack(tup=(B, [A[v][w], A[v][y]]))\n",
    "            print('B =', B, '\\n')\n",
    "            \n",
    "            # Verificando se B é uma base\n",
    "            v, V =  np.linalg.eig(B)\n",
    "            if(v.all() == 0):\n",
    "                print('A matriz B não é uma base')\n",
    "                print('A linha LD é:')\n",
    "                print (B[v == 0,:])\n",
    "                print('\\n---------------------------------------------------------------------------\\n')\n",
    "                \n",
    "                # Colocar na tabela de soluções básicas, com informações vazias\n",
    "                todas_solucoes = np.row_stack((todas_solucoes, [[IB[0]+1, IB[1]+1], cont_x, [], []]))\n",
    "                continue\n",
    "\n",
    "            # B-1\n",
    "            B1 = np.linalg.inv(B)\n",
    "            print('B-1 =', B1, '\\n')\n",
    "\n",
    "            # xB\n",
    "            xB = B1.dot(b)\n",
    "            print('xB =', xB, '\\n')\n",
    "            \n",
    "            # x\n",
    "            x = []\n",
    "            for v in range (0, n):              \n",
    "                if(v == IB[0]):\n",
    "                    x.append(np.round(xB[0]))\n",
    "                elif(v == IB[1]):\n",
    "                    x.append(np.round(xB[1]))\n",
    "                else:\n",
    "                    x.append(0)\n",
    "            print('x =', x, '\\n')\n",
    "                \n",
    "            # cTx\n",
    "            cTx = np.transpose(c).dot(x)\n",
    "            print('cTx =', cTx, '\\n')\n",
    "                \n",
    "            # Colocar na tabela de soluções básicas\n",
    "            todas_solucoes = np.row_stack((todas_solucoes, [[IB[0]+1, IB[1]+1], cont_x, cTx, x]))\n",
    "            \n",
    "            # Se a solução for viável, colocar na tabela de soluções viáveis\n",
    "            if(verifica_solucao_viavel(x) == True):\n",
    "                solucoes_viaveis = np.row_stack((solucoes_viaveis, [[IB[0]+1, IB[1]+1], cont_x, cTx, x]))\n",
    "            \n",
    "            print('\\n---------------------------------------------------------------------------\\n')\n"
   ]
  },
  {
   "cell_type": "code",
   "execution_count": 29,
   "metadata": {},
   "outputs": [
    {
     "data": {
      "text/plain": [
       "array([[[0, 0, 0], 0, 0, 0],\n",
       "       [[1, 2], 1, 28.0, [4.0, 4.0, 0, 0]],\n",
       "       [[1, 3], 2, 20.0, [4.0, 0, 4.0, 0]],\n",
       "       [[1, 4], 3, 0.0, [0.0, 0, 0, 4.0]],\n",
       "       [[2, 3], 4, [], []],\n",
       "       [[2, 4], 5, 0.0, [0, 0.0, 0, 4.0]],\n",
       "       [[3, 4], 6, 0.0, [0, 0, 0.0, 4.0]]], dtype=object)"
      ]
     },
     "execution_count": 29,
     "metadata": {},
     "output_type": "execute_result"
    }
   ],
   "source": [
    "## Formatando os valores do todas_solucoes para sair bonitinho na tabela\n",
    "\n",
    "for x in range(1, len(todas_solucoes)):\n",
    "    try:\n",
    "        todas_solucoes[x][2] = todas_solucoes[x][2][0]\n",
    "    except:\n",
    "        pass\n",
    "\n",
    "for x in range(1, len(todas_solucoes)):\n",
    "    for y in range(0, len(todas_solucoes)):\n",
    "        try:\n",
    "            todas_solucoes[x][3][y] = todas_solucoes[x][3][y][0]\n",
    "        except:\n",
    "            pass\n",
    "\n",
    "todas_solucoes"
   ]
  },
  {
   "cell_type": "code",
   "execution_count": 30,
   "metadata": {},
   "outputs": [
    {
     "name": "stdout",
     "output_type": "stream",
     "text": [
      "Todas as soluções:\n"
     ]
    },
    {
     "data": {
      "text/html": [
       "<div>\n",
       "<style scoped>\n",
       "    .dataframe tbody tr th:only-of-type {\n",
       "        vertical-align: middle;\n",
       "    }\n",
       "\n",
       "    .dataframe tbody tr th {\n",
       "        vertical-align: top;\n",
       "    }\n",
       "\n",
       "    .dataframe thead th {\n",
       "        text-align: right;\n",
       "    }\n",
       "</style>\n",
       "<table border=\"1\" class=\"dataframe\">\n",
       "  <thead>\n",
       "    <tr style=\"text-align: right;\">\n",
       "      <th></th>\n",
       "      <th>Conjunto de índices base</th>\n",
       "      <th>Id da solução</th>\n",
       "      <th>cTx</th>\n",
       "      <th>Solução básica associada à base</th>\n",
       "    </tr>\n",
       "  </thead>\n",
       "  <tbody>\n",
       "    <tr>\n",
       "      <th>0</th>\n",
       "      <td>[1, 2]</td>\n",
       "      <td>1</td>\n",
       "      <td>28.0</td>\n",
       "      <td>[4.0, 4.0, 0, 0]</td>\n",
       "    </tr>\n",
       "    <tr>\n",
       "      <th>1</th>\n",
       "      <td>[1, 3]</td>\n",
       "      <td>2</td>\n",
       "      <td>20.0</td>\n",
       "      <td>[4.0, 0, 4.0, 0]</td>\n",
       "    </tr>\n",
       "    <tr>\n",
       "      <th>2</th>\n",
       "      <td>[1, 4]</td>\n",
       "      <td>3</td>\n",
       "      <td>0.0</td>\n",
       "      <td>[0.0, 0, 0, 4.0]</td>\n",
       "    </tr>\n",
       "    <tr>\n",
       "      <th>3</th>\n",
       "      <td>[2, 3]</td>\n",
       "      <td>4</td>\n",
       "      <td>[]</td>\n",
       "      <td>[]</td>\n",
       "    </tr>\n",
       "    <tr>\n",
       "      <th>4</th>\n",
       "      <td>[2, 4]</td>\n",
       "      <td>5</td>\n",
       "      <td>0.0</td>\n",
       "      <td>[0, 0.0, 0, 4.0]</td>\n",
       "    </tr>\n",
       "    <tr>\n",
       "      <th>5</th>\n",
       "      <td>[3, 4]</td>\n",
       "      <td>6</td>\n",
       "      <td>0.0</td>\n",
       "      <td>[0, 0, 0.0, 4.0]</td>\n",
       "    </tr>\n",
       "  </tbody>\n",
       "</table>\n",
       "</div>"
      ],
      "text/plain": [
       "  Conjunto de índices base Id da solução   cTx Solução básica associada à base\n",
       "0                   [1, 2]             1  28.0                [4.0, 4.0, 0, 0]\n",
       "1                   [1, 3]             2  20.0                [4.0, 0, 4.0, 0]\n",
       "2                   [1, 4]             3   0.0                [0.0, 0, 0, 4.0]\n",
       "3                   [2, 3]             4    []                              []\n",
       "4                   [2, 4]             5   0.0                [0, 0.0, 0, 4.0]\n",
       "5                   [3, 4]             6   0.0                [0, 0, 0.0, 4.0]"
      ]
     },
     "execution_count": 30,
     "metadata": {},
     "output_type": "execute_result"
    }
   ],
   "source": [
    "print(\"Todas as soluções:\")\n",
    "\n",
    "todas_solucoes = pd.DataFrame(todas_solucoes[1:,:], columns=['Conjunto de índices base', 'Id da solução', 'cTx', 'Solução básica associada à base'])\n",
    "todas_solucoes.sort_values(by=['Id da solução'])\n",
    "\n",
    "todas_solucoes"
   ]
  },
  {
   "cell_type": "code",
   "execution_count": 31,
   "metadata": {},
   "outputs": [
    {
     "name": "stdout",
     "output_type": "stream",
     "text": [
      "\n",
      "Quantidade de soluções básicas:  5\n"
     ]
    },
    {
     "name": "stderr",
     "output_type": "stream",
     "text": [
      "<ipython-input-31-243826ed9650>:1: DeprecationWarning: The truth value of an empty array is ambiguous. Returning False, but in future this will result in an error. Use `array.size > 0` to check that an array is not empty.\n",
      "  qtd_solucoes_basicas = list(map(lambda z, sb=0: sb if z == [] else sb+1, todas_solucoes.loc[:, 'cTx'])).count(1)\n"
     ]
    }
   ],
   "source": [
    "qtd_solucoes_basicas = list(map(lambda z, sb=0: sb if z == [] else sb+1, todas_solucoes.loc[:, 'cTx'])).count(1)\n",
    "\n",
    "print(\"\\nQuantidade de soluções básicas: \", qtd_solucoes_basicas)"
   ]
  },
  {
   "cell_type": "code",
   "execution_count": 32,
   "metadata": {},
   "outputs": [
    {
     "data": {
      "text/plain": [
       "array([[[0, 0, 0], 0, 0, 0],\n",
       "       [[1, 2], 1, 28.0, [4.0, 4.0, 0, 0]],\n",
       "       [[1, 3], 2, 20.0, [4.0, 0, 4.0, 0]],\n",
       "       [[1, 4], 3, 0.0, [0.0, 0, 0, 4.0]],\n",
       "       [[2, 4], 5, 0.0, [0, 0.0, 0, 4.0]],\n",
       "       [[3, 4], 6, 0.0, [0, 0, 0.0, 4.0]]], dtype=object)"
      ]
     },
     "execution_count": 32,
     "metadata": {},
     "output_type": "execute_result"
    }
   ],
   "source": [
    "## Formatando os valores do solucoes_viaveis para sair bonitinho na tabela\n",
    "\n",
    "for x in range(1, len(solucoes_viaveis)):\n",
    "    try:\n",
    "        solucoes_viaveis[x][2] = solucoes_viaveis[x][2][0]\n",
    "    except:\n",
    "        pass\n",
    "\n",
    "for x in range(1, len(solucoes_viaveis)):\n",
    "    for y in range(0, len(solucoes_viaveis)):\n",
    "        try:\n",
    "            solucoes_viaveis[x][3][y] = solucoes_viaveis[x][3][y][0]\n",
    "        except:\n",
    "            pass\n",
    "\n",
    "solucoes_viaveis"
   ]
  },
  {
   "cell_type": "code",
   "execution_count": 33,
   "metadata": {},
   "outputs": [
    {
     "name": "stdout",
     "output_type": "stream",
     "text": [
      "Soluções viáveis:\n"
     ]
    },
    {
     "data": {
      "text/html": [
       "<div>\n",
       "<style scoped>\n",
       "    .dataframe tbody tr th:only-of-type {\n",
       "        vertical-align: middle;\n",
       "    }\n",
       "\n",
       "    .dataframe tbody tr th {\n",
       "        vertical-align: top;\n",
       "    }\n",
       "\n",
       "    .dataframe thead th {\n",
       "        text-align: right;\n",
       "    }\n",
       "</style>\n",
       "<table border=\"1\" class=\"dataframe\">\n",
       "  <thead>\n",
       "    <tr style=\"text-align: right;\">\n",
       "      <th></th>\n",
       "      <th>Conjunto de índices base</th>\n",
       "      <th>Id da solução</th>\n",
       "      <th>cTx</th>\n",
       "      <th>Solução básica associada à base</th>\n",
       "    </tr>\n",
       "  </thead>\n",
       "  <tbody>\n",
       "    <tr>\n",
       "      <th>0</th>\n",
       "      <td>[1, 2]</td>\n",
       "      <td>1</td>\n",
       "      <td>28.0</td>\n",
       "      <td>[4.0, 4.0, 0, 0]</td>\n",
       "    </tr>\n",
       "    <tr>\n",
       "      <th>1</th>\n",
       "      <td>[1, 3]</td>\n",
       "      <td>2</td>\n",
       "      <td>20.0</td>\n",
       "      <td>[4.0, 0, 4.0, 0]</td>\n",
       "    </tr>\n",
       "    <tr>\n",
       "      <th>2</th>\n",
       "      <td>[1, 4]</td>\n",
       "      <td>3</td>\n",
       "      <td>0.0</td>\n",
       "      <td>[0.0, 0, 0, 4.0]</td>\n",
       "    </tr>\n",
       "    <tr>\n",
       "      <th>3</th>\n",
       "      <td>[2, 4]</td>\n",
       "      <td>5</td>\n",
       "      <td>0.0</td>\n",
       "      <td>[0, 0.0, 0, 4.0]</td>\n",
       "    </tr>\n",
       "    <tr>\n",
       "      <th>4</th>\n",
       "      <td>[3, 4]</td>\n",
       "      <td>6</td>\n",
       "      <td>0.0</td>\n",
       "      <td>[0, 0, 0.0, 4.0]</td>\n",
       "    </tr>\n",
       "  </tbody>\n",
       "</table>\n",
       "</div>"
      ],
      "text/plain": [
       "  Conjunto de índices base Id da solução   cTx Solução básica associada à base\n",
       "0                   [1, 2]             1  28.0                [4.0, 4.0, 0, 0]\n",
       "1                   [1, 3]             2  20.0                [4.0, 0, 4.0, 0]\n",
       "2                   [1, 4]             3   0.0                [0.0, 0, 0, 4.0]\n",
       "3                   [2, 4]             5   0.0                [0, 0.0, 0, 4.0]\n",
       "4                   [3, 4]             6   0.0                [0, 0, 0.0, 4.0]"
      ]
     },
     "execution_count": 33,
     "metadata": {},
     "output_type": "execute_result"
    }
   ],
   "source": [
    "print(\"Soluções viáveis:\")\n",
    "\n",
    "solucoes_viaveis = pd.DataFrame(solucoes_viaveis[1:,:], columns=['Conjunto de índices base', 'Id da solução', 'cTx', 'Solução básica associada à base'])\n",
    "solucoes_viaveis.sort_values(by=['Id da solução'])\n",
    "\n",
    "solucoes_viaveis"
   ]
  },
  {
   "cell_type": "code",
   "execution_count": 34,
   "metadata": {},
   "outputs": [
    {
     "name": "stdout",
     "output_type": "stream",
     "text": [
      "\n",
      "Quantidade de soluções viáveis:  5\n"
     ]
    }
   ],
   "source": [
    "qtd_solucoes_viaveis = len(solucoes_viaveis)\n",
    "print(\"\\nQuantidade de soluções viáveis: \", qtd_solucoes_viaveis)"
   ]
  },
  {
   "cell_type": "code",
   "execution_count": 35,
   "metadata": {},
   "outputs": [
    {
     "name": "stdout",
     "output_type": "stream",
     "text": [
      "Solução Ótima: 28.0\n"
     ]
    }
   ],
   "source": [
    "## Digite 1 se você deseja maximizar ou 2 se você deseja minimizar\n",
    "entrada = 1\n",
    "\n",
    "if(entrada == 1):\n",
    "    id_solucao_otima = solucoes_viaveis['cTx'].astype(float).argmax()\n",
    "elif(entrada == 2):\n",
    "    id_solucao_otima = solucoes_viaveis['cTx'].astype(float).argmin()\n",
    "    \n",
    "solucao_otima = solucoes_viaveis['cTx'][id_solucao_otima]\n",
    "\n",
    "print('Solução Ótima:', solucao_otima)"
   ]
  },
  {
   "cell_type": "code",
   "execution_count": 36,
   "metadata": {},
   "outputs": [
    {
     "name": "stdout",
     "output_type": "stream",
     "text": [
      "\n",
      "Soluções que geram a solução ótima:\n",
      "\n"
     ]
    },
    {
     "data": {
      "text/html": [
       "<div>\n",
       "<style scoped>\n",
       "    .dataframe tbody tr th:only-of-type {\n",
       "        vertical-align: middle;\n",
       "    }\n",
       "\n",
       "    .dataframe tbody tr th {\n",
       "        vertical-align: top;\n",
       "    }\n",
       "\n",
       "    .dataframe thead th {\n",
       "        text-align: right;\n",
       "    }\n",
       "</style>\n",
       "<table border=\"1\" class=\"dataframe\">\n",
       "  <thead>\n",
       "    <tr style=\"text-align: right;\">\n",
       "      <th></th>\n",
       "      <th>Conjunto de índices base</th>\n",
       "      <th>Id da solução</th>\n",
       "      <th>cTx</th>\n",
       "      <th>Solução básica associada à base</th>\n",
       "    </tr>\n",
       "  </thead>\n",
       "  <tbody>\n",
       "    <tr>\n",
       "      <th>0</th>\n",
       "      <td>[1, 2]</td>\n",
       "      <td>1</td>\n",
       "      <td>28.0</td>\n",
       "      <td>[4.0, 4.0, 0, 0]</td>\n",
       "    </tr>\n",
       "  </tbody>\n",
       "</table>\n",
       "</div>"
      ],
      "text/plain": [
       "  Conjunto de índices base Id da solução   cTx Solução básica associada à base\n",
       "0                   [1, 2]             1  28.0                [4.0, 4.0, 0, 0]"
      ]
     },
     "execution_count": 36,
     "metadata": {},
     "output_type": "execute_result"
    }
   ],
   "source": [
    "print('\\nSoluções que geram a solução ótima:\\n')\n",
    "\n",
    "geram_solucoes_otimas = solucoes_viaveis.loc[solucoes_viaveis['cTx'] == solucao_otima, :]\n",
    "geram_solucoes_otimas"
   ]
  },
  {
   "cell_type": "code",
   "execution_count": 37,
   "metadata": {},
   "outputs": [
    {
     "name": "stdout",
     "output_type": "stream",
     "text": [
      "\n",
      "Quantidade de soluções viáveis:  5\n",
      "\n",
      "Quantidade de soluções básicas:  5\n",
      "\n",
      "O número máximo de soluções básicas: 6.0\n",
      "\n",
      "Solução Ótima: 28.0\n"
     ]
    }
   ],
   "source": [
    "print(\"\\nQuantidade de soluções viáveis: \", qtd_solucoes_viaveis)\n",
    "print(\"\\nQuantidade de soluções básicas: \", qtd_solucoes_basicas)\n",
    "print('\\nO número máximo de soluções básicas:', combinacoes)\n",
    "print('\\nSolução Ótima:', solucao_otima)"
   ]
  },
  {
   "cell_type": "code",
   "execution_count": 38,
   "metadata": {},
   "outputs": [
    {
     "data": {
      "image/png": "[encoded data removed]",
      "text/plain": [
       "<Figure size 432x288 with 1 Axes>"
      ]
     },
     "metadata": {
      "needs_background": "light"
     },
     "output_type": "display_data"
    }
   ],
   "source": [
    "plt.plot([0, 5], [0, 5])\n",
    "plt.plot([4, 4], [0, 5])\n",
    "\n",
    "plt.plot([0, 0], [0, 5]) # y >= 0\n",
    "plt.plot([0, 5], [0, 0]) # x >= 0\n",
    "\n",
    "plt.xlabel('Eixo X')\n",
    "plt.ylabel('Eixo Y')\n",
    "\n",
    "plt.axis([-1, 5, -1, 5]) # [xmin, xmax, ymin, ymax]\n",
    "\n",
    "plt.show()"
   ]
  },
  {
   "cell_type": "code",
   "execution_count": 39,
   "metadata": {},
   "outputs": [
    {
     "name": "stdout",
     "output_type": "stream",
     "text": [
      "3 <= 5 <= 5 <= 6.0\n"
     ]
    }
   ],
   "source": [
    "qtd_pontos_extremos = 3\n",
    "\n",
    "# |pe| ≤ |sbv| ≤ |sb| ≤ Cn,m\n",
    "print(qtd_pontos_extremos, '<=', qtd_solucoes_viaveis, '<=', qtd_solucoes_basicas, '<=', combinacoes)"
   ]
  }
 ],
 "metadata": {
  "kernelspec": {
   "display_name": "Python 3",
   "language": "python",
   "name": "python3"
  },
  "language_info": {
   "codemirror_mode": {
    "name": "ipython",
    "version": 3
   },
   "file_extension": ".py",
   "mimetype": "text/x-python",
   "name": "python",
   "nbconvert_exporter": "python",
   "pygments_lexer": "ipython3",
   "version": "3.8.8"
  }
 },
 "nbformat": 4,
 "nbformat_minor": 2
}
